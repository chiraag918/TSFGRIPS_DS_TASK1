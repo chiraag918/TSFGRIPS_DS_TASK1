{
  "nbformat": 4,
  "nbformat_minor": 0,
  "metadata": {
    "colab": {
      "name": "TSFGRIPS-DS-TASK1.ipynb",
      "provenance": [],
      "authorship_tag": "ABX9TyN9D6+pkrgdq71mXymU1BZy",
      "include_colab_link": true
    },
    "kernelspec": {
      "name": "python3",
      "display_name": "Python 3"
    },
    "language_info": {
      "name": "python"
    }
  },
  "cells": [
    {
      "cell_type": "markdown",
      "metadata": {
        "id": "view-in-github",
        "colab_type": "text"
      },
      "source": [
        "<a href=\"https://colab.research.google.com/github/chiraag918/TSFGRIPS_DataScience_BusinessAnalytics/blob/main/TSFGRIPS_DS_TASK1.ipynb\" target=\"_parent\"><img src=\"https://colab.research.google.com/assets/colab-badge.svg\" alt=\"Open In Colab\"/></a>"
      ]
    },
    {
      "cell_type": "markdown",
      "metadata": {
        "id": "TVfqvE9N8a7b"
      },
      "source": [
        "**The Sparks Foundation - Graduate Rotational Internship Program - Data Science & Business Analytics - Task 1 - Prediction using Supervised ML - \n",
        "Chiraag A**\n"
      ]
    },
    {
      "cell_type": "markdown",
      "metadata": {
        "id": "-12DxX3PxUmA"
      },
      "source": [
        "The main goal of this program is to use linear regression model(supervised learning), to predict the percentage/score of the student based on the study hours/day input. For this, Python's Scikit Learn library is made use of to import machine leraning modules, as in our case, the linear_model.\n"
      ]
    },
    {
      "cell_type": "code",
      "metadata": {
        "id": "mUM3JKUruYxf"
      },
      "source": [
        "# Reqd. libraries are imported\n",
        "import pandas as pd\n",
        "import numpy as np\n",
        "from sklearn import linear_model\n",
        "import matplotlib.pyplot as plt  "
      ],
      "execution_count": 1,
      "outputs": []
    },
    {
      "cell_type": "code",
      "metadata": {
        "colab": {
          "base_uri": "https://localhost:8080/"
        },
        "id": "gypZsF8PuvKc",
        "outputId": "f0e23d4b-3645-4cd1-c26d-db92d6b160c5"
      },
      "source": [
        "#importing data for training the linear regression model, from the URL link\n",
        "train_data = pd.read_csv(\"http://bit.ly/w-data\")\n",
        "print(\"Traning Data\\n\\n\",train_data)"
      ],
      "execution_count": 2,
      "outputs": [
        {
          "output_type": "stream",
          "text": [
            "Traning Data\n",
            "\n",
            "     Hours  Scores\n",
            "0     2.5      21\n",
            "1     5.1      47\n",
            "2     3.2      27\n",
            "3     8.5      75\n",
            "4     3.5      30\n",
            "5     1.5      20\n",
            "6     9.2      88\n",
            "7     5.5      60\n",
            "8     8.3      81\n",
            "9     2.7      25\n",
            "10    7.7      85\n",
            "11    5.9      62\n",
            "12    4.5      41\n",
            "13    3.3      42\n",
            "14    1.1      17\n",
            "15    8.9      95\n",
            "16    2.5      30\n",
            "17    1.9      24\n",
            "18    6.1      67\n",
            "19    7.4      69\n",
            "20    2.7      30\n",
            "21    4.8      54\n",
            "22    3.8      35\n",
            "23    6.9      76\n",
            "24    7.8      86\n"
          ],
          "name": "stdout"
        }
      ]
    },
    {
      "cell_type": "markdown",
      "metadata": {
        "id": "bEjUAvpUw_Xq"
      },
      "source": [
        ""
      ]
    },
    {
      "cell_type": "code",
      "metadata": {
        "colab": {
          "base_uri": "https://localhost:8080/",
          "height": 295
        },
        "id": "oBKuCBR-w3F2",
        "outputId": "25c9e90a-abe0-4f6c-e3c5-46009e8a0345"
      },
      "source": [
        "# Visualisation of the Data set in hand\n",
        "train_data.plot(x='Hours', y='Scores', style='x')  \n",
        "plt.title('Hours vs Percentage')  \n",
        "plt.xlabel('Hours Studied')  \n",
        "plt.ylabel('Percentage Score')  \n",
        "plt.show()"
      ],
      "execution_count": 3,
      "outputs": [
        {
          "output_type": "display_data",
          "data": {
            "image/png": "[encoded data removed]",
            "text/plain": [
              "<Figure size 432x288 with 1 Axes>"
            ]
          },
          "metadata": {
            "tags": [],
            "needs_background": "light"
          }
        }
      ]
    },
    {
      "cell_type": "code",
      "metadata": {
        "colab": {
          "base_uri": "https://localhost:8080/"
        },
        "id": "BjJ7Fyr0vayz",
        "outputId": "faabeb07-19d3-43ee-ccb4-e07eab88921f"
      },
      "source": [
        "# Training the linear regression model\n",
        "\n",
        "lin_reg = linear_model.LinearRegression()\n",
        "lin_reg.fit(train_data[['Hours']],train_data['Scores'])\n"
      ],
      "execution_count": 4,
      "outputs": [
        {
          "output_type": "execute_result",
          "data": {
            "text/plain": [
              "LinearRegression(copy_X=True, fit_intercept=True, n_jobs=None, normalize=False)"
            ]
          },
          "metadata": {
            "tags": []
          },
          "execution_count": 4
        }
      ]
    },
    {
      "cell_type": "code",
      "metadata": {
        "colab": {
          "base_uri": "https://localhost:8080/",
          "height": 295
        },
        "id": "OzKaaqh4zkgS",
        "outputId": "c67b1e27-d132-4c21-b2f3-95c076eedb35"
      },
      "source": [
        "# Visualising the linear fit on the train data\n",
        "train_data.plot(x='Hours', y='Scores', style='x')  \n",
        "plt.title('Hours vs Percentage')  \n",
        "plt.xlabel('Hours Studied')  \n",
        "line = lin_reg.coef_*train_data['Hours']+lin_reg.intercept_\n",
        "plt.plot(train_data['Hours'], line)\n",
        "plt.show()"
      ],
      "execution_count": 5,
      "outputs": [
        {
          "output_type": "display_data",
          "data": {
            "image/png": "[encoded data removed]",
            "text/plain": [
              "<Figure size 432x288 with 1 Axes>"
            ]
          },
          "metadata": {
            "tags": [],
            "needs_background": "light"
          }
        }
      ]
    },
    {
      "cell_type": "code",
      "metadata": {
        "colab": {
          "base_uri": "https://localhost:8080/"
        },
        "id": "DRrg3s8CwDQz",
        "outputId": "15c2f03e-9c86-4e5b-febc-ee1fbff69b1d"
      },
      "source": [
        "# Prediction of Data on the test case\n",
        "test_hrs=9.25\n",
        "prediction=lin_reg.predict([[test_hrs]])\n",
        "print(\"\\nThe student who spends\",test_hrs,\"per day studying would get a score of\",prediction[0])"
      ],
      "execution_count": 6,
      "outputs": [
        {
          "output_type": "stream",
          "text": [
            "\n",
            "The student who spends 9.25 per day studying would get a score of 92.9098547701573\n"
          ],
          "name": "stdout"
        }
      ]
    }
  ]
}